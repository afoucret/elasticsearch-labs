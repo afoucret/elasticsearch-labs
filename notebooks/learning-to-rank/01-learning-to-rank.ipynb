{
 "cells": [
  {
   "cell_type": "markdown",
   "metadata": {},
   "source": [
    "# How to train and deploy Learning To Rank\n",
    "\n",
    "[![Open In Colab](https://colab.research.google.com/assets/colab-badge.svg)](https://colab.research.google.com/github/afoucret/elasticsearch-labs/blob/ltr-notebook/notebooks/learning-to-rank/01-learning-to-rank.ipynb)\n",
    "\n",
    "In this notebook we will see example on how to train a Learning To Rank model using [XGBoost](https://xgboost.ai/) and how to deploy it to be used as a rescorer in Elasticsearch."
   ]
  },
  {
   "cell_type": "markdown",
   "metadata": {},
   "source": [
    "## Install required packages\n",
    "\n",
    "First we will be installing packages required for our example."
   ]
  },
  {
   "cell_type": "code",
   "execution_count": 10,
   "metadata": {},
   "outputs": [
    {
     "name": "stdout",
     "output_type": "stream",
     "text": [
      "Requirement already satisfied: elasticsearch in /Users/afoucret/git/elasticsearch-labs/.venv/lib/python3.8/site-packages (8.11.1)\n",
      "Requirement already satisfied: eland[xgboost] in /Users/afoucret/git/elasticsearch-labs/.venv/lib/python3.8/site-packages (8.11.1)\n",
      "Requirement already satisfied: elastic-transport<9,>=8 in /Users/afoucret/git/elasticsearch-labs/.venv/lib/python3.8/site-packages (from elasticsearch) (8.11.0)\n",
      "Requirement already satisfied: numpy<2,>=1.2.0 in /Users/afoucret/git/elasticsearch-labs/.venv/lib/python3.8/site-packages (from eland[xgboost]) (1.24.4)\n",
      "Requirement already satisfied: pandas<2,>=1.5 in /Users/afoucret/git/elasticsearch-labs/.venv/lib/python3.8/site-packages (from eland[xgboost]) (1.5.3)\n",
      "Requirement already satisfied: matplotlib>=3.6 in /Users/afoucret/git/elasticsearch-labs/.venv/lib/python3.8/site-packages (from eland[xgboost]) (3.7.4)\n",
      "Requirement already satisfied: packaging in /Users/afoucret/git/elasticsearch-labs/.venv/lib/python3.8/site-packages (from eland[xgboost]) (23.2)\n",
      "Requirement already satisfied: xgboost<2,>=0.90 in /Users/afoucret/git/elasticsearch-labs/.venv/lib/python3.8/site-packages (from eland[xgboost]) (1.7.6)\n",
      "Requirement already satisfied: certifi in /Users/afoucret/git/elasticsearch-labs/.venv/lib/python3.8/site-packages (from elastic-transport<9,>=8->elasticsearch) (2023.11.17)\n",
      "Requirement already satisfied: urllib3<3,>=1.26.2 in /Users/afoucret/git/elasticsearch-labs/.venv/lib/python3.8/site-packages (from elastic-transport<9,>=8->elasticsearch) (2.1.0)\n",
      "Requirement already satisfied: fonttools>=4.22.0 in /Users/afoucret/git/elasticsearch-labs/.venv/lib/python3.8/site-packages (from matplotlib>=3.6->eland[xgboost]) (4.47.2)\n",
      "Requirement already satisfied: pyparsing>=2.3.1 in /Users/afoucret/git/elasticsearch-labs/.venv/lib/python3.8/site-packages (from matplotlib>=3.6->eland[xgboost]) (3.1.1)\n",
      "Requirement already satisfied: importlib-resources>=3.2.0 in /Users/afoucret/git/elasticsearch-labs/.venv/lib/python3.8/site-packages (from matplotlib>=3.6->eland[xgboost]) (6.1.1)\n",
      "Requirement already satisfied: pillow>=6.2.0 in /Users/afoucret/git/elasticsearch-labs/.venv/lib/python3.8/site-packages (from matplotlib>=3.6->eland[xgboost]) (10.2.0)\n",
      "Requirement already satisfied: contourpy>=1.0.1 in /Users/afoucret/git/elasticsearch-labs/.venv/lib/python3.8/site-packages (from matplotlib>=3.6->eland[xgboost]) (1.1.1)\n",
      "Requirement already satisfied: kiwisolver>=1.0.1 in /Users/afoucret/git/elasticsearch-labs/.venv/lib/python3.8/site-packages (from matplotlib>=3.6->eland[xgboost]) (1.4.5)\n",
      "Requirement already satisfied: python-dateutil>=2.7 in /Users/afoucret/git/elasticsearch-labs/.venv/lib/python3.8/site-packages (from matplotlib>=3.6->eland[xgboost]) (2.8.2)\n",
      "Requirement already satisfied: cycler>=0.10 in /Users/afoucret/git/elasticsearch-labs/.venv/lib/python3.8/site-packages (from matplotlib>=3.6->eland[xgboost]) (0.12.1)\n",
      "Requirement already satisfied: pytz>=2020.1 in /Users/afoucret/git/elasticsearch-labs/.venv/lib/python3.8/site-packages (from pandas<2,>=1.5->eland[xgboost]) (2023.3.post1)\n",
      "Requirement already satisfied: scipy in /Users/afoucret/git/elasticsearch-labs/.venv/lib/python3.8/site-packages (from xgboost<2,>=0.90->eland[xgboost]) (1.10.1)\n",
      "Requirement already satisfied: zipp>=3.1.0 in /Users/afoucret/git/elasticsearch-labs/.venv/lib/python3.8/site-packages (from importlib-resources>=3.2.0->matplotlib>=3.6->eland[xgboost]) (3.17.0)\n",
      "Requirement already satisfied: six>=1.5 in /Users/afoucret/git/elasticsearch-labs/.venv/lib/python3.8/site-packages (from python-dateutil>=2.7->matplotlib>=3.6->eland[xgboost]) (1.16.0)\n",
      "\u001b[33mWARNING: You are using pip version 22.0.4; however, version 23.3.2 is available.\n",
      "You should consider upgrading via the '/Users/afoucret/git/elasticsearch-labs/.venv/bin/python -m pip install --upgrade pip' command.\u001b[0m\u001b[33m\n",
      "\u001b[0m"
     ]
    }
   ],
   "source": [
    "!pip install elasticsearch \"eland[xgboost]\""
   ]
  },
  {
   "cell_type": "markdown",
   "metadata": {},
   "source": [
    "## Configure your Elasticsearch deployment\n",
    "\n",
    "For this example, we will be using an [Elastic Cloud](https://www.elastic.co/guide/en/cloud/current/ec-getting-started.html) deployment (available with a [free trial](https://cloud.elastic.co/registration?utm_source=github&utm_content=elasticsearch-labs-notebook))."
   ]
  },
  {
   "cell_type": "code",
   "execution_count": 11,
   "metadata": {},
   "outputs": [
    {
     "data": {
      "text/plain": [
       "'Successfully connected to cluster 2a391d1ee27d46078c34e6d04a30c384 (version 8.12.0)'"
      ]
     },
     "execution_count": 11,
     "metadata": {},
     "output_type": "execute_result"
    }
   ],
   "source": [
    "import getpass\n",
    "from elasticsearch import Elasticsearch\n",
    "\n",
    "# Found in the \"Manage Deployment\" page\n",
    "try: CLOUD_ID\n",
    "except NameError: CLOUD_ID = getpass.getpass(\"Enter Elastic Cloud ID: \")\n",
    "\n",
    "# Password for the \"elastic\" user generated by Elasticsearch\n",
    "try: ELASTIC_PASSWORD\n",
    "except NameError:\n",
    "    ELASTIC_PASSWORD = getpass.getpass(\"Enter Elastic password: \")\n",
    "\n",
    "# Create the client instance\n",
    "es_client = Elasticsearch(\n",
    "    cloud_id=CLOUD_ID,\n",
    "    basic_auth=(\"elastic\", ELASTIC_PASSWORD)\n",
    ")\n",
    "\n",
    "client_info = es_client.info()\n",
    "\n",
    "f\"Successfully connected to cluster {client_info['cluster_name']} (version {client_info['version']['number']})\""
   ]
  },
  {
   "cell_type": "markdown",
   "metadata": {},
   "source": [
    "## Download the dataset\n",
    "\n",
    "In this example notebook we will use a dataset derived from [MSRD](https://github.com/metarank/msrd/tree/master) (Movie Search Ranking Dataset).\n",
    "\n",
    "The dataset contains the following files:\n",
    "\n",
    "- **movies_corpus.jsonl.gz**\n",
    "- **movies_judgements.csv.gz**\n",
    "- **movies_feature_extractors.json**\n",
    "- **movies_index_settings.json**"
   ]
  },
  {
   "cell_type": "code",
   "execution_count": 12,
   "metadata": {},
   "outputs": [],
   "source": [
    "import os\n",
    "from urllib.parse import urljoin\n",
    "\n",
    "DATASET_BASE_URL = \"https://raw.githubusercontent.com/afoucret/elasticsearch-labs/ltr-notebook/notebooks/learning-to-rank/sample_data/\"\n",
    "\n",
    "CORPUS_URL = urljoin(DATASET_BASE_URL, \"movies_corpus.jsonl.gz\")\n",
    "JUDGEMENTS_FILE_URL = urljoin(DATASET_BASE_URL,\"movies_judgments.csv.gz\")\n",
    "INDEX_SETTINGS_URL = urljoin(DATASET_BASE_URL,\"movies_index_settings.json\")\n",
    "FEATURE_EXTRACTORS_URL = urljoin(DATASET_BASE_URL,\"movies_feature_extractors.json\")\n"
   ]
  },
  {
   "cell_type": "markdown",
   "metadata": {},
   "source": [
    " ## Importing the document corpus"
   ]
  },
  {
   "cell_type": "code",
   "execution_count": 13,
   "metadata": {},
   "outputs": [
    {
     "name": "stdout",
     "output_type": "stream",
     "text": [
      "Deleting index if it already exists: movies\n",
      "Creating index: movies\n",
      "Loading the corpus from https://raw.githubusercontent.com/afoucret/elasticsearch-labs/ltr-notebook/notebooks/learning-to-rank/sample_data/movies_corpus.jsonl.gz\n",
      "Indexing the corpus into movies ...\n",
      "Indexed 9751 documents into movies\n"
     ]
    }
   ],
   "source": [
    "import json\n",
    "import elasticsearch.helpers as es_helpers\n",
    "import pandas as pd\n",
    "from urllib.request import urlopen\n",
    "\n",
    "MOVIE_INDEX = \"movies\"\n",
    "\n",
    "# Delete index\n",
    "print(\"Deleting index if it already exists:\", MOVIE_INDEX)\n",
    "es_client.options(ignore_status=[400, 404]).indices.delete(index=MOVIE_INDEX)\n",
    "\n",
    "print(\"Creating index:\", MOVIE_INDEX)\n",
    "index_settings = json.load(urlopen(INDEX_SETTINGS_URL))\n",
    "es_client.indices.create(index=MOVIE_INDEX, **index_settings)\n",
    "\n",
    "print(f\"Loading the corpus from {CORPUS_URL}\")\n",
    "corpus_df = pd.read_json(CORPUS_URL, lines=True)\n",
    "\n",
    "print(f\"Indexing the corpus into {MOVIE_INDEX} ...\")\n",
    "bulk_result = es_helpers.bulk(\n",
    "  es_client,\n",
    "  actions=[{ \"_id\": movie['id'], \"_index\": MOVIE_INDEX, **movie } for movie in corpus_df.to_dict('records')]\n",
    ")\n",
    "print(f\"Indexed {bulk_result[0]} documents into {MOVIE_INDEX}\")"
   ]
  }
 ],
 "metadata": {
  "kernelspec": {
   "display_name": ".venv",
   "language": "python",
   "name": "python3"
  },
  "language_info": {
   "codemirror_mode": {
    "name": "ipython",
    "version": 3
   },
   "file_extension": ".py",
   "mimetype": "text/x-python",
   "name": "python",
   "nbconvert_exporter": "python",
   "pygments_lexer": "ipython3",
   "version": "3.8.13"
  }
 },
 "nbformat": 4,
 "nbformat_minor": 2
}
