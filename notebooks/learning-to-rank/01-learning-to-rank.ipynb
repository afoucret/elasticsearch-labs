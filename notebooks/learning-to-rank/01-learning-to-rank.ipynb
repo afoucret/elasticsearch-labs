{
 "cells": [
  {
   "cell_type": "markdown",
   "metadata": {},
   "source": [
    "# How to train and deploy Learning To Rank\n",
    "\n",
    "[![Open In Colab](https://colab.research.google.com/assets/colab-badge.svg)](https://colab.research.google.com/github/afoucret/elasticsearch-labs/blob/ltr-notebook/notebooks/learning-to-rank/01-learning-to-rank.ipynb.ipynb)\n",
    "\n",
    "In this notebook we will see example on how to train a Learning To Rank model using [XGBoost](https://xgboost.ai/) and how to deploy it to be used as a rescorer in Elasticsearch."
   ]
  },
  {
   "cell_type": "markdown",
   "metadata": {},
   "source": [
    "## Install required packages\n",
    "\n",
    "First we will be installing packages required for our example."
   ]
  },
  {
   "cell_type": "code",
   "execution_count": 23,
   "metadata": {},
   "outputs": [
    {
     "name": "stderr",
     "output_type": "stream",
     "text": [
      "1945.12s - pydevd: Sending message related to process being replaced timed-out after 5 seconds\n"
     ]
    },
    {
     "name": "stdout",
     "output_type": "stream",
     "text": [
      "Requirement already satisfied: elasticsearch in /Users/afoucret/git/elasticsearch-labs/.venv/lib/python3.8/site-packages (8.11.1)\n",
      "Requirement already satisfied: eland[xgboost] in /Users/afoucret/git/elasticsearch-labs/.venv/lib/python3.8/site-packages (8.11.1)\n",
      "Requirement already satisfied: elastic-transport<9,>=8 in /Users/afoucret/git/elasticsearch-labs/.venv/lib/python3.8/site-packages (from elasticsearch) (8.11.0)\n",
      "Requirement already satisfied: pandas<2,>=1.5 in /Users/afoucret/git/elasticsearch-labs/.venv/lib/python3.8/site-packages (from eland[xgboost]) (1.5.3)\n",
      "Requirement already satisfied: matplotlib>=3.6 in /Users/afoucret/git/elasticsearch-labs/.venv/lib/python3.8/site-packages (from eland[xgboost]) (3.7.4)\n",
      "Requirement already satisfied: numpy<2,>=1.2.0 in /Users/afoucret/git/elasticsearch-labs/.venv/lib/python3.8/site-packages (from eland[xgboost]) (1.24.4)\n",
      "Requirement already satisfied: packaging in /Users/afoucret/git/elasticsearch-labs/.venv/lib/python3.8/site-packages (from eland[xgboost]) (23.2)\n",
      "Requirement already satisfied: xgboost<2,>=0.90 in /Users/afoucret/git/elasticsearch-labs/.venv/lib/python3.8/site-packages (from eland[xgboost]) (1.7.6)\n",
      "Requirement already satisfied: certifi in /Users/afoucret/git/elasticsearch-labs/.venv/lib/python3.8/site-packages (from elastic-transport<9,>=8->elasticsearch) (2023.11.17)\n",
      "Requirement already satisfied: urllib3<3,>=1.26.2 in /Users/afoucret/git/elasticsearch-labs/.venv/lib/python3.8/site-packages (from elastic-transport<9,>=8->elasticsearch) (2.1.0)\n",
      "Requirement already satisfied: cycler>=0.10 in /Users/afoucret/git/elasticsearch-labs/.venv/lib/python3.8/site-packages (from matplotlib>=3.6->eland[xgboost]) (0.12.1)\n",
      "Requirement already satisfied: pillow>=6.2.0 in /Users/afoucret/git/elasticsearch-labs/.venv/lib/python3.8/site-packages (from matplotlib>=3.6->eland[xgboost]) (10.2.0)\n",
      "Requirement already satisfied: fonttools>=4.22.0 in /Users/afoucret/git/elasticsearch-labs/.venv/lib/python3.8/site-packages (from matplotlib>=3.6->eland[xgboost]) (4.47.2)\n",
      "Requirement already satisfied: kiwisolver>=1.0.1 in /Users/afoucret/git/elasticsearch-labs/.venv/lib/python3.8/site-packages (from matplotlib>=3.6->eland[xgboost]) (1.4.5)\n",
      "Requirement already satisfied: contourpy>=1.0.1 in /Users/afoucret/git/elasticsearch-labs/.venv/lib/python3.8/site-packages (from matplotlib>=3.6->eland[xgboost]) (1.1.1)\n",
      "Requirement already satisfied: pyparsing>=2.3.1 in /Users/afoucret/git/elasticsearch-labs/.venv/lib/python3.8/site-packages (from matplotlib>=3.6->eland[xgboost]) (3.1.1)\n",
      "Requirement already satisfied: importlib-resources>=3.2.0 in /Users/afoucret/git/elasticsearch-labs/.venv/lib/python3.8/site-packages (from matplotlib>=3.6->eland[xgboost]) (6.1.1)\n",
      "Requirement already satisfied: python-dateutil>=2.7 in /Users/afoucret/git/elasticsearch-labs/.venv/lib/python3.8/site-packages (from matplotlib>=3.6->eland[xgboost]) (2.8.2)\n",
      "Requirement already satisfied: pytz>=2020.1 in /Users/afoucret/git/elasticsearch-labs/.venv/lib/python3.8/site-packages (from pandas<2,>=1.5->eland[xgboost]) (2023.3.post1)\n",
      "Requirement already satisfied: scipy in /Users/afoucret/git/elasticsearch-labs/.venv/lib/python3.8/site-packages (from xgboost<2,>=0.90->eland[xgboost]) (1.10.1)\n",
      "Requirement already satisfied: zipp>=3.1.0 in /Users/afoucret/git/elasticsearch-labs/.venv/lib/python3.8/site-packages (from importlib-resources>=3.2.0->matplotlib>=3.6->eland[xgboost]) (3.17.0)\n",
      "Requirement already satisfied: six>=1.5 in /Users/afoucret/git/elasticsearch-labs/.venv/lib/python3.8/site-packages (from python-dateutil>=2.7->matplotlib>=3.6->eland[xgboost]) (1.16.0)\n",
      "\u001b[33mWARNING: You are using pip version 22.0.4; however, version 23.3.2 is available.\n",
      "You should consider upgrading via the '/Users/afoucret/git/elasticsearch-labs/.venv/bin/python -m pip install --upgrade pip' command.\u001b[0m\u001b[33m\n",
      "\u001b[0m"
     ]
    }
   ],
   "source": [
    "!pip install elasticsearch \"eland[xgboost]\""
   ]
  },
  {
   "cell_type": "markdown",
   "metadata": {},
   "source": [
    "## Configure your Elasticsearch deployment\n",
    "\n",
    "For this example, we will be using an [Elastic Cloud](https://www.elastic.co/guide/en/cloud/current/ec-getting-started.html) deployment (available with a [free trial](https://cloud.elastic.co/registration?utm_source=github&utm_content=elasticsearch-labs-notebook))."
   ]
  },
  {
   "cell_type": "code",
   "execution_count": 24,
   "metadata": {},
   "outputs": [
    {
     "data": {
      "text/plain": [
       "'Successfully connected to cluster 2a391d1ee27d46078c34e6d04a30c384 (version 8.12.0)'"
      ]
     },
     "execution_count": 24,
     "metadata": {},
     "output_type": "execute_result"
    }
   ],
   "source": [
    "import getpass\n",
    "from elasticsearch import Elasticsearch\n",
    "\n",
    "# Found in the \"Manage Deployment\" page\n",
    "try: CLOUD_ID\n",
    "except NameError: CLOUD_ID = getpass.getpass(\"Enter Elastic Cloud ID: \")\n",
    "\n",
    "# Password for the \"elastic\" user generated by Elasticsearch\n",
    "try: ELASTIC_PASSWORD\n",
    "except NameError:\n",
    "    ELASTIC_PASSWORD = getpass.getpass(\"Enter Elastic password: \")\n",
    "\n",
    "# Create the client instance\n",
    "es_client = Elasticsearch(\n",
    "    cloud_id=CLOUD_ID,\n",
    "    basic_auth=(\"elastic\", ELASTIC_PASSWORD)\n",
    ")\n",
    "\n",
    "client_info = es_client.info()\n",
    "\n",
    "f\"Successfully connected to cluster {client_info['cluster_name']} (version {client_info['version']['number']})\""
   ]
  }
 ],
 "metadata": {
  "kernelspec": {
   "display_name": ".venv",
   "language": "python",
   "name": "python3"
  },
  "language_info": {
   "codemirror_mode": {
    "name": "ipython",
    "version": 3
   },
   "file_extension": ".py",
   "mimetype": "text/x-python",
   "name": "python",
   "nbconvert_exporter": "python",
   "pygments_lexer": "ipython3",
   "version": "3.8.13"
  }
 },
 "nbformat": 4,
 "nbformat_minor": 2
}
